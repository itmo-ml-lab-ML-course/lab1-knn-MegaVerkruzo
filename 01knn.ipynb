{
 "cells": [
  {
   "cell_type": "markdown",
   "id": "d16a2cda46d1eb54",
   "metadata": {},
   "source": [
    "    # Реализация метода нахождения ближайших соседей\n",
    "\n",
    "#### Сначала нужно привести его в числовой вид"
   ]
  },
  {
   "cell_type": "code",
   "id": "636e3e56b53463a5",
   "metadata": {
    "ExecuteTime": {
     "end_time": "2024-09-12T15:08:37.087548Z",
     "start_time": "2024-09-12T15:08:37.016663Z"
    }
   },
   "source": [
    "import numpy as np\n",
    "import optuna\n",
    "import pandas as pd\n",
    "import sklearn.neighbors\n",
    "from pandas import DataFrame\n",
    "\n",
    "def updateCategoryColumnsToNumber(df: DataFrame, columns: list):\n",
    "    for column in columns:\n",
    "        values = df[column].unique()\n",
    "        dict = {}\n",
    "        for i in range(len(values)):\n",
    "            if values[i] is not None:\n",
    "                dict[values[i]] = i + 1\n",
    "        df[column] = df[column].fillna(df[column].value_counts().idxmax())\n",
    "        df[column] = df[column].map(dict).fillna(0)\n",
    "    return df\n",
    "\n",
    "def updateBooleanToInt(df: DataFrame, columns: list):\n",
    "    for column in columns:\n",
    "        df[column] = df[column].map({True: 1, False:0})\n",
    "    return df\n",
    "\n",
    "def changeZKH(x: str):\n",
    "    if x == 'не включена':\n",
    "        return 0\n",
    "    else:\n",
    "        new_x = x.split('(')[0][:-2].replace(' ', '')\n",
    "        if new_x == 'включен':\n",
    "            return np.NaN\n",
    "        return int(new_x)\n",
    "    \n",
    "def updateComission(df: DataFrame, column: str):\n",
    "    df[column] = df[column].fillna(\"0%\").map(lambda x: int(x[:-1]))\n",
    "    return df\n",
    "\n",
    "\n",
    "def updateZKH(df: DataFrame, column: str):\n",
    "    changedColumn = df[column].map(lambda x: changeZKH(x))\n",
    "    df[column] = changedColumn.fillna(int(changedColumn.mean()))\n",
    "    return df   \n",
    "\n",
    "def updateFloat(df: DataFrame, columns: list):\n",
    "    for column in columns:\n",
    "        new_column = df[column].map(lambda x: float(str(x).replace(',','.')))\n",
    "        df[column] = new_column.fillna(new_column.median())\n",
    "    return df\n",
    "\n",
    "df = pd.read_csv('flats.csv')\n",
    "\n",
    "df = df.drop(columns=['Ссылка', 'Тип жилья', 'Аварийность', ])\n",
    "df = updateCategoryColumnsToNumber(df, ['Город', 'Условия проживания', 'Срок аренды', 'Условия проживания', 'Предоплата', 'Метро', 'Парковка', 'Санузел', 'Вид из окон', 'Количество лифтов', 'Ремонт', 'Отопление', 'Газоснабжение', 'Мусоропровод', 'Тип дома', 'Тип перекрытий'])\n",
    "df = updateBooleanToInt(df, ['Холодильник', 'Стиральная машина', 'Мебель в комнатах', 'Мебель на кухне', 'Телевизор', 'Интернет'])\n",
    "df = updateZKH(df, 'Оплата ЖКХ')\n",
    "df = updateComission(df, 'Комиссия')\n",
    "df = updateFloat(df, ['Год постройки', 'Высота потолков', 'Общая площадь', 'Жилая площадь', 'Площадь кухни', 'Подъезды'])\n"
   ],
   "outputs": [
    {
     "name": "stdout",
     "output_type": "stream",
     "text": [
      "{'Москва': 1, 'Санкт-Петербург': 2}\n"
     ]
    }
   ],
   "execution_count": 35
  },
  {
   "cell_type": "markdown",
   "id": "bd4035b57a2987a8",
   "metadata": {},
   "source": [
    "#### Теперь нормализуем min-max Scaler'ом"
   ]
  },
  {
   "cell_type": "code",
   "id": "a898b80603793a20",
   "metadata": {
    "ExecuteTime": {
     "end_time": "2024-09-12T15:03:54.601700Z",
     "start_time": "2024-09-12T15:03:54.592154Z"
    }
   },
   "source": [
    "from sklearn.preprocessing import MinMaxScaler\n",
    "\n",
    "norm_columns = ['Цена в месяц', 'Оплата ЖКХ', 'Комиссия', 'Залог', 'Общая площадь', 'Жилая площадь', 'Площадь кухни', 'Высота потолков']\n",
    "\n",
    "X, y = df.drop(columns='Город'), df['Город']\n",
    "\n",
    "# Нормализация\n",
    "for column in norm_columns:\n",
    "    if column in X.columns:\n",
    "        X[column] = (X[column] - X[column].mean()) / X[column].std()"
   ],
   "outputs": [],
   "execution_count": 29
  },
  {
   "cell_type": "markdown",
   "id": "2a99940f6b3edbd4",
   "metadata": {},
   "source": [
    "#### Сохраним всё в файл"
   ]
  },
  {
   "cell_type": "code",
   "id": "ae932a8048b457a8",
   "metadata": {
    "ExecuteTime": {
     "end_time": "2024-09-12T15:04:43.164079Z",
     "start_time": "2024-09-12T15:04:43.104536Z"
    }
   },
   "source": [
    "# Save the modified DataFrame to a new CSV file\n",
    "combined_df = pd.concat([y, X], axis=1)\n",
    "combined_df.to_csv('flats_numeric.csv', index=False)\n",
    "combined_df.shape"
   ],
   "outputs": [
    {
     "data": {
      "text/plain": [
       "(2950, 31)"
      ]
     },
     "execution_count": 32,
     "metadata": {},
     "output_type": "execute_result"
    }
   ],
   "execution_count": 32
  },
  {
   "metadata": {},
   "cell_type": "markdown",
   "source": "# Анализ получившихся данных",
   "id": "ae0573b58a76c04e"
  },
  {
   "metadata": {
    "ExecuteTime": {
     "end_time": "2024-09-12T13:14:37.267586Z",
     "start_time": "2024-09-12T13:14:36.117038Z"
    }
   },
   "cell_type": "code",
   "source": [
    "from matplotlib import pyplot as plt\n",
    "\n",
    "percents = np.linspace(0, 1, 1000)\n",
    "init_percentiles = df.describe(percents).tail(len(percents) + 3)\n",
    "percentiles = X.describe(percents).tail(len(percents) + 3)\n",
    "percentiles.shape"
   ],
   "id": "df81d71bba882664",
   "outputs": [
    {
     "data": {
      "text/plain": [
       "(1003, 30)"
      ]
     },
     "execution_count": 5,
     "metadata": {},
     "output_type": "execute_result"
    }
   ],
   "execution_count": 5
  },
  {
   "metadata": {
    "ExecuteTime": {
     "end_time": "2024-09-12T13:14:42.830833Z",
     "start_time": "2024-09-12T13:14:39.513069Z"
    }
   },
   "cell_type": "code",
   "source": [
    "\n",
    "# Выберите столбцы, для которых хотите отобразить перцентили\n",
    "columns_to_plot = ['Цена в месяц']  # Замените на нужные столбцы\n",
    "\n",
    "# Создайте фигуру и оси\n",
    "fig, ax = plt.subplots(figsize=(10, 6))\n",
    "\n",
    "# Постройте линии перцентилей\n",
    "for col in columns_to_plot:\n",
    "    ax.plot(init_percentiles.index, init_percentiles[col], label=col)\n",
    "\n",
    "# Добавьте метки и заголовок\n",
    "ax.set_xlabel('Перцентили (Q)')\n",
    "ax.set_ylabel('Значение')\n",
    "ax.set_title('Перцентили для выбранных столбцов')\n",
    "ax.legend()\n",
    "\n",
    "# Отобразите график\n",
    "plt.show()"
   ],
   "id": "846a0413dd041aed",
   "outputs": [
    {
     "data": {
      "text/plain": [
       "<Figure size 1000x600 with 1 Axes>"
      ],
      "image/png": "[encoded data removed]"
     },
     "metadata": {},
     "output_type": "display_data"
    }
   ],
   "execution_count": 6
  },
  {
   "cell_type": "markdown",
   "id": "7f5f6273f78c5778",
   "metadata": {},
   "source": [
    "## Adding config"
   ]
  },
  {
   "metadata": {
    "ExecuteTime": {
     "end_time": "2024-09-12T13:14:42.837573Z",
     "start_time": "2024-09-12T13:14:42.832341Z"
    }
   },
   "cell_type": "code",
   "source": [
    "class Distance:\n",
    "    @staticmethod\n",
    "    def minkowski(a: np.ndarray, b: np.ndarray, p):\n",
    "        return (np.abs(a - b) ** p).sum(axis=-1) ** (1 / p)\n",
    "\n",
    "    @staticmethod\n",
    "    def euclidean(a, b):\n",
    "        return Distance.minkowski(a, b, 2)\n",
    "\n",
    "    @staticmethod\n",
    "    def manhattan(a, b):\n",
    "        return Distance.minkowski(a, b, 1)\n",
    "\n",
    "    @staticmethod\n",
    "    def cosine(a, b):\n",
    "        return 1 - (a * b).sum(axis=-1) / np.linalg.norm(a, axis=-1) / np.linalg.norm(b, axis=-1)\n",
    "    \n",
    "    @staticmethod\n",
    "    def getByName(name):\n",
    "        if name == \"euclidean\":\n",
    "            return Distance.euclidean\n",
    "        elif name == \"manhattan\":\n",
    "            return Distance.manhattan\n",
    "        elif name == \"cosine\":\n",
    "            return Distance.cosine"
   ],
   "id": "f3546290c26994d0",
   "outputs": [],
   "execution_count": 7
  },
  {
   "metadata": {
    "ExecuteTime": {
     "end_time": "2024-09-12T13:14:42.850379Z",
     "start_time": "2024-09-12T13:14:42.838686Z"
    }
   },
   "cell_type": "code",
   "source": [
    "class Kernel:\n",
    "    @staticmethod\n",
    "    def uniform(u):\n",
    "        u = np.abs(u)\n",
    "        return (u < 1) / 2\n",
    "\n",
    "    @staticmethod\n",
    "    def common(u, a, b):\n",
    "        u = np.abs(u)\n",
    "        return (u < 1) * (1 - u ** a) ** b\n",
    "\n",
    "    @staticmethod\n",
    "    def triangular(u):\n",
    "        return Kernel.common(u, 1, 1)\n",
    "\n",
    "    @staticmethod\n",
    "    def epanechnikov(u):\n",
    "        return Kernel.common(u, 2, 1) * 0.75\n",
    "\n",
    "    @staticmethod\n",
    "    def gaussian(u):\n",
    "        return 1 / np.sqrt(2 * np.pi) * np.exp(-(u ** 2) / 2)\n",
    "\n",
    "    @staticmethod\n",
    "    def cosine(u):\n",
    "        u = np.abs(u)\n",
    "        return np.pi / 4 * np.cos(np.pi / 2 * u) * (u < 1)\n",
    "    \n",
    "    @staticmethod\n",
    "    def getByName(name):\n",
    "        if name == \"uniform\":\n",
    "            return Kernel.uniform\n",
    "        elif name == \"common\":\n",
    "            return Kernel.common\n",
    "        elif name == \"triangular\":\n",
    "            return Kernel.triangular\n",
    "        elif name == \"epanechnikov\":\n",
    "            return Kernel.epanechnikov\n",
    "        elif name == \"gaussian\":\n",
    "            return Kernel.gaussian\n",
    "        elif name == \"cosine\":\n",
    "            return Kernel.cosine"
   ],
   "id": "7b3448cea13b2974",
   "outputs": [],
   "execution_count": 8
  },
  {
   "cell_type": "code",
   "id": "a73aaf33007f5baa",
   "metadata": {
    "ExecuteTime": {
     "end_time": "2024-09-12T13:14:45.517795Z",
     "start_time": "2024-09-12T13:14:45.513256Z"
    }
   },
   "source": [
    "import json\n",
    "\n",
    "class Config:\n",
    "    def __init__(self, path):\n",
    "        with open(path) as config_file:\n",
    "            params = json.load(config_file)\n",
    "            self.test_size = params[\"test_size\"]\n",
    "            self.optuna_size = params[\"optuna_size\"]\n",
    "            self.random_seed = params[\"random_seed\"]\n",
    "            self.radius = params[\"radius\"]\n",
    "            self.max_neighbour_count = params[\"max_neighbour_count\"]\n",
    "            self.n_trials = params[\"n_trials\"]\n",
    "            self.min_radius = params[\"min_radius\"]\n",
    "\n",
    "config: Config = Config('config.json')"
   ],
   "outputs": [],
   "execution_count": 9
  },
  {
   "cell_type": "markdown",
   "id": "a5c39fea6810d880",
   "metadata": {},
   "source": [
    "## Разобьём данные на тренировочную и тестовые выборки"
   ]
  },
  {
   "cell_type": "code",
   "id": "d318721290c93907",
   "metadata": {
    "ExecuteTime": {
     "end_time": "2024-09-12T13:14:48.395969Z",
     "start_time": "2024-09-12T13:14:48.386612Z"
    }
   },
   "source": [
    "from sklearn.model_selection import train_test_split\n",
    "\n",
    "X_train, X_test, y_train, y_test = train_test_split(X, y, test_size=config.test_size, random_state=config.random_seed)\n",
    "X_train = X_train.to_numpy()\n",
    "X_test = X_test.to_numpy()\n",
    "y_train = y_train.to_numpy()\n",
    "y_test = y_test.to_numpy()"
   ],
   "outputs": [],
   "execution_count": 10
  },
  {
   "metadata": {
    "ExecuteTime": {
     "end_time": "2024-09-12T13:14:57.785845Z",
     "start_time": "2024-09-12T13:14:57.782633Z"
    }
   },
   "cell_type": "code",
   "source": [
    "print(X_train.shape)\n",
    "print(y_train.shape)\n",
    "print(X_test.shape)\n",
    "print(y_test.shape)"
   ],
   "id": "b3779d1738483c66",
   "outputs": [
    {
     "name": "stdout",
     "output_type": "stream",
     "text": [
      "(2065, 30)\n",
      "(2065,)\n",
      "(885, 30)\n",
      "(885,)\n"
     ]
    }
   ],
   "execution_count": 12
  },
  {
   "metadata": {},
   "cell_type": "markdown",
   "source": "### Сделаем KNN модель, используя sklearn",
   "id": "605059ef5f891673"
  },
  {
   "metadata": {
    "ExecuteTime": {
     "end_time": "2024-09-12T13:15:01.463452Z",
     "start_time": "2024-09-12T13:15:01.457126Z"
    }
   },
   "cell_type": "code",
   "source": [
    "from sklearn.neighbors import KNeighborsClassifier, RadiusNeighborsClassifier\n",
    "\n",
    "class LibraryKNNClassifier:\n",
    "    def __init__(self, metric_name, kernel_name, window_mode, k=None, radius=None):\n",
    "        self.__metric = Distance.getByName(metric_name)\n",
    "        self.__kernel = Kernel.getByName(kernel_name)\n",
    "        self.__window_mode = window_mode\n",
    "        self.__radius = radius\n",
    "        self.__k = k\n",
    "        \n",
    "        if self.__window_mode == \"neighbours\":\n",
    "            assert k is not None\n",
    "            self.__model = KNeighborsClassifier(n_neighbors=self.__k + 1,weights=self.__weights, metric=self.__metric)\n",
    "        elif self.__window_mode == \"fixed\":\n",
    "            assert radius is not None\n",
    "            self.__model = RadiusNeighborsClassifier(radius=self.__radius, weights=self.__weights, metric=self.__metric)\n",
    "            \n",
    "    def fit(self, X, y):\n",
    "        self.__model.fit(X, y)\n",
    "        \n",
    "    def predict(self, X):\n",
    "        return self.__model.predict(X)\n",
    " \n",
    "    def __weights(self, distances):\n",
    "        return np.array([self.get_weight(d) for d in distances])\n",
    "\n",
    "    # distances - массив расстояний от объекта до ближайших вершин\n",
    "    def get_weight(self, distances):\n",
    "        distance_denominator = None\n",
    "        if self.__window_mode == \"neighbours\":\n",
    "            # print(\"distances.shape\", distances.shape)\n",
    "            # print(\"k\", self.__k)\n",
    "            distance_denominator = distances[self.__k]\n",
    "        elif self.__window_mode == \"fixed\":\n",
    "            # print(\"radius\", self.__radius)\n",
    "            distance_denominator = self.__radius\n",
    "        # print(\"2distances.shape\", distances.shape)\n",
    "        # print(\"distance_denominator\", distance_denominator)\n",
    "        # print(\"(distance / distance_denominator).shape\", (distances / distance_denominator).shape)\n",
    "        return [self.__kernel(d) for d in (distances / distance_denominator)]\n",
    "        "
   ],
   "id": "362200aeb3a224c4",
   "outputs": [],
   "execution_count": 13
  },
  {
   "metadata": {},
   "cell_type": "markdown",
   "source": "### Проверка",
   "id": "44e6a0b29c404d73"
  },
  {
   "metadata": {
    "ExecuteTime": {
     "end_time": "2024-09-12T04:17:25.937400Z",
     "start_time": "2024-09-12T04:17:25.931735Z"
    }
   },
   "cell_type": "code",
   "source": [
    "easy_X = np.array([\n",
    "    [3, 3, 3],\n",
    "    [-3, -3, -3],\n",
    "    [-4, -4, -4],\n",
    "    [-7, -7, -7],\n",
    "    [2, 2, 2]\n",
    "])\n",
    "easy_y = np.array([1, 2, 2, 2, 1])\n",
    "\n",
    "classifier = LibraryKNNClassifier('euclidean', 'triangular', \"neighbours\", k=2)\n",
    "classifier.fit(easy_X, easy_y)\n",
    "assert classifier.predict(np.array([[-5, -10, -3]])) == 2"
   ],
   "id": "40fc2b2415965367",
   "outputs": [],
   "execution_count": 319
  },
  {
   "metadata": {},
   "cell_type": "markdown",
   "source": "## Сделаем свой KNN",
   "id": "4361aa274505952d"
  },
  {
   "metadata": {
    "ExecuteTime": {
     "end_time": "2024-09-12T13:15:06.171736Z",
     "start_time": "2024-09-12T13:15:06.164980Z"
    }
   },
   "cell_type": "code",
   "source": [
    "class MyKNNClassifier:\n",
    "    def __init__(self, metric_name, kernel_name, window_mode, k=None, radius=None):\n",
    "        self.__metric = Distance.getByName(metric_name)\n",
    "        self.__kernel = Kernel.getByName(kernel_name)\n",
    "        self.__window_mode = window_mode\n",
    "        self.__radius = radius\n",
    "        self.__k = k\n",
    "        if self.__window_mode == \"neighbours\":\n",
    "            assert k is not None\n",
    "        elif self.__window_mode == \"fixed\":\n",
    "            assert radius is not None\n",
    "            \n",
    "    # 3-е это априорные веса\n",
    "    def fit(self, X, y, weights=None):\n",
    "        self.__X = X\n",
    "        self.__y = y\n",
    "        self.__weights = weights\n",
    "    \n",
    "    def predict(self, X):\n",
    "        return np.array([self.mini_predict(x) for x in X])\n",
    "    \n",
    "    def mini_predict(self, x):\n",
    "        distance_denominator: float = 0\n",
    "        if self.__window_mode == \"fixed\":\n",
    "            distance_denominator = self.__radius\n",
    "        elif self.__window_mode == \"neighbours\":\n",
    "            distances_from_x = [self.__metric(x, v) for v in self.__X]\n",
    "            distances_from_x.sort()\n",
    "            distance_denominator = distances_from_x[self.__k]\n",
    "        \n",
    "        classes_weights = {}\n",
    "        for i in range(len(self.__y)):\n",
    "            sample = self.__X[i]\n",
    "            class_label = self.__y[i]\n",
    "            aprior_weight = self.__weights[i] if self.__weights is not None else 1\n",
    "            \n",
    "            if class_label not in classes_weights:\n",
    "                classes_weights[class_label] = 0\n",
    "                \n",
    "            distance: float = self.__metric(x, sample)\n",
    "            classes_weights[class_label] += aprior_weight * self.__kernel(distance / distance_denominator)\n",
    "        return max(classes_weights.keys(), key = classes_weights.get)"
   ],
   "id": "a108e160eacf5b3c",
   "outputs": [],
   "execution_count": 14
  },
  {
   "metadata": {},
   "cell_type": "markdown",
   "source": "### Проверка  ",
   "id": "dce000901cd9d940"
  },
  {
   "metadata": {
    "ExecuteTime": {
     "end_time": "2024-09-11T21:40:19.787661Z",
     "start_time": "2024-09-11T21:40:19.750701Z"
    }
   },
   "cell_type": "code",
   "source": [
    "classifier = MyKNNClassifier('euclidean', 'triangular', \"neighbours\", k=2)\n",
    "classifier.fit(easy_X, easy_y)\n",
    "assert classifier.predict(np.array([[-5, -10, -3]])) == 2"
   ],
   "id": "4a06e2885d3fd2da",
   "outputs": [
    {
     "ename": "AttributeError",
     "evalue": "'numpy.ndarray' object has no attribute 'iter_rows'",
     "output_type": "error",
     "traceback": [
      "\u001B[0;31m---------------------------------------------------------------------------\u001B[0m",
      "\u001B[0;31mAttributeError\u001B[0m                            Traceback (most recent call last)",
      "Cell \u001B[0;32mIn[291], line 3\u001B[0m\n\u001B[1;32m      1\u001B[0m classifier \u001B[38;5;241m=\u001B[39m MyKNNClassifier(\u001B[38;5;124m'\u001B[39m\u001B[38;5;124meuclidean\u001B[39m\u001B[38;5;124m'\u001B[39m, \u001B[38;5;124m'\u001B[39m\u001B[38;5;124mtriangular\u001B[39m\u001B[38;5;124m'\u001B[39m, \u001B[38;5;124m\"\u001B[39m\u001B[38;5;124mneighbours\u001B[39m\u001B[38;5;124m\"\u001B[39m, k\u001B[38;5;241m=\u001B[39m\u001B[38;5;241m2\u001B[39m)\n\u001B[1;32m      2\u001B[0m classifier\u001B[38;5;241m.\u001B[39mfit(easy_X, easy_y)\n\u001B[0;32m----> 3\u001B[0m \u001B[38;5;28;01massert\u001B[39;00m \u001B[43mclassifier\u001B[49m\u001B[38;5;241;43m.\u001B[39;49m\u001B[43mpredict\u001B[49m\u001B[43m(\u001B[49m\u001B[43mnp\u001B[49m\u001B[38;5;241;43m.\u001B[39;49m\u001B[43marray\u001B[49m\u001B[43m(\u001B[49m\u001B[43m[\u001B[49m\u001B[43m[\u001B[49m\u001B[38;5;241;43m-\u001B[39;49m\u001B[38;5;241;43m5\u001B[39;49m\u001B[43m,\u001B[49m\u001B[43m \u001B[49m\u001B[38;5;241;43m-\u001B[39;49m\u001B[38;5;241;43m10\u001B[39;49m\u001B[43m,\u001B[49m\u001B[43m \u001B[49m\u001B[38;5;241;43m-\u001B[39;49m\u001B[38;5;241;43m3\u001B[39;49m\u001B[43m]\u001B[49m\u001B[43m]\u001B[49m\u001B[43m)\u001B[49m\u001B[43m)\u001B[49m \u001B[38;5;241m==\u001B[39m \u001B[38;5;241m2\u001B[39m\n",
      "Cell \u001B[0;32mIn[290], line 20\u001B[0m, in \u001B[0;36mMyKNNClassifier.predict\u001B[0;34m(self, X)\u001B[0m\n\u001B[1;32m     19\u001B[0m \u001B[38;5;28;01mdef\u001B[39;00m \u001B[38;5;21mpredict\u001B[39m(\u001B[38;5;28mself\u001B[39m, X):\n\u001B[0;32m---> 20\u001B[0m     \u001B[38;5;28;01mreturn\u001B[39;00m np\u001B[38;5;241m.\u001B[39marray([\u001B[38;5;28mself\u001B[39m\u001B[38;5;241m.\u001B[39mmini_predict(x) \u001B[38;5;28;01mfor\u001B[39;00m x \u001B[38;5;129;01min\u001B[39;00m \u001B[43mX\u001B[49m\u001B[38;5;241;43m.\u001B[39;49m\u001B[43miter_rows\u001B[49m()])\n",
      "\u001B[0;31mAttributeError\u001B[0m: 'numpy.ndarray' object has no attribute 'iter_rows'"
     ]
    }
   ],
   "execution_count": 291
  },
  {
   "metadata": {},
   "cell_type": "markdown",
   "source": "## Подбор гиперпараметров",
   "id": "6971928d35b6f882"
  },
  {
   "metadata": {},
   "cell_type": "markdown",
   "source": "#### Целевая функция качества",
   "id": "9c50dc19bdb09a2d"
  },
  {
   "metadata": {
    "ExecuteTime": {
     "end_time": "2024-09-12T13:15:14.954463Z",
     "start_time": "2024-09-12T13:15:14.951381Z"
    }
   },
   "cell_type": "code",
   "source": [
    "from sklearn.metrics import balanced_accuracy_score\n",
    "\n",
    "def model_accuracy(y_real, y_predicted):\n",
    "    return balanced_accuracy_score(y_real, y_predicted)"
   ],
   "id": "32f8d286f0bb6e6a",
   "outputs": [],
   "execution_count": 15
  },
  {
   "metadata": {},
   "cell_type": "markdown",
   "source": "#### Перебор: метрики, ядра, тип окна, радиус, ширина окна",
   "id": "e701d3d785fe0e0d"
  },
  {
   "metadata": {
    "ExecuteTime": {
     "end_time": "2024-09-12T13:15:16.953511Z",
     "start_time": "2024-09-12T13:15:16.947953Z"
    }
   },
   "cell_type": "code",
   "source": [
    "import optuna\n",
    "\n",
    "def optimize(model_class, without_gaussian = False):\n",
    "    def model_accuracy_objective(trial: optuna.Trial):\n",
    "        choose = [\"uniform\", \"triangular\", \"epanechnikov\", \"cosine\"]\n",
    "        if not without_gaussian:\n",
    "            choose.append(\"gaussian\")\n",
    "        kernel_name = trial.suggest_categorical('kernel', choose)\n",
    "        metric_name = trial.suggest_categorical('metric', ['euclidean', 'manhattan', 'cosine'])\n",
    "        window_type = trial.suggest_categorical('window_type', ['neighbours', 'fixed'])\n",
    "        \n",
    "        k = None\n",
    "        radius = None\n",
    "        if window_type == \"fixed\":\n",
    "            radius = trial.suggest_float('radius', config.min_radius, config.radius)\n",
    "        else:\n",
    "            k = trial.suggest_int('k', 1, X_train.shape[0] - 1)\n",
    "            \n",
    "        model = model_class(metric_name, kernel_name, window_type, k, radius)\n",
    "        model.fit(X_train, y_train)\n",
    "        predicted = model.predict(X_test)\n",
    "        \n",
    "        return model_accuracy(y_test, predicted)\n",
    "        \n",
    "    model_study = optuna.create_study(direction='maximize')\n",
    "    model_study.optimize(model_accuracy_objective, n_trials=config.n_trials)\n",
    "    return model_study.best_params"
   ],
   "id": "a38639f4dece37af",
   "outputs": [],
   "execution_count": 16
  },
  {
   "metadata": {
    "ExecuteTime": {
     "end_time": "2024-09-11T20:17:37.930073Z",
     "start_time": "2024-09-11T20:17:37.927733Z"
    }
   },
   "cell_type": "code",
   "source": "",
   "id": "20302bdadba7067d",
   "outputs": [],
   "execution_count": 267
  },
  {
   "metadata": {},
   "cell_type": "markdown",
   "source": "## Получим лучшие параметры",
   "id": "509315da6b37f252"
  },
  {
   "metadata": {
    "ExecuteTime": {
     "end_time": "2024-09-12T13:15:24.054170Z",
     "start_time": "2024-09-12T13:15:24.051164Z"
    }
   },
   "cell_type": "code",
   "source": [
    "print(X_train.shape)\n",
    "print(y_train.shape)\n",
    "print(X_test.shape)\n",
    "print(y_test.shape)"
   ],
   "id": "7e5be510c0a4f2f9",
   "outputs": [
    {
     "name": "stdout",
     "output_type": "stream",
     "text": [
      "(2065, 30)\n",
      "(2065,)\n",
      "(885, 30)\n",
      "(885,)\n"
     ]
    }
   ],
   "execution_count": 17
  },
  {
   "metadata": {
    "ExecuteTime": {
     "end_time": "2024-09-11T21:14:16.265239Z",
     "start_time": "2024-09-11T21:02:33.891798Z"
    }
   },
   "cell_type": "code",
   "source": [
    "library_model_params = optimize(LibraryKNNClassifier, True)\n",
    "library_model_params"
   ],
   "id": "e6b5abc76846cf88",
   "outputs": [
    {
     "name": "stderr",
     "output_type": "stream",
     "text": [
      "[I 2024-09-12 00:02:33,893] A new study created in memory with name: no-name-a3358f50-c7ca-4d89-b906-a69f15b0ea9f\n",
      "[I 2024-09-12 00:02:53,132] Trial 0 finished with value: 0.9281683229051649 and parameters: {'kernel': 'cosine', 'metric': 'cosine', 'window_type': 'neighbours', 'k': 62}. Best is trial 0 with value: 0.9281683229051649.\n",
      "[I 2024-09-12 00:03:12,430] Trial 1 finished with value: 0.9270028217396638 and parameters: {'kernel': 'epanechnikov', 'metric': 'cosine', 'window_type': 'neighbours', 'k': 61}. Best is trial 0 with value: 0.9281683229051649.\n",
      "[I 2024-09-12 00:03:20,922] Trial 2 finished with value: 0.8899981597350018 and parameters: {'kernel': 'cosine', 'metric': 'euclidean', 'window_type': 'neighbours', 'k': 275}. Best is trial 0 with value: 0.9281683229051649.\n",
      "[I 2024-09-12 00:03:44,643] Trial 3 finished with value: 0.8496810207336523 and parameters: {'kernel': 'triangular', 'metric': 'cosine', 'window_type': 'neighbours', 'k': 1893}. Best is trial 0 with value: 0.9281683229051649.\n",
      "[I 2024-09-12 00:03:56,807] Trial 4 finished with value: 0.8442675745307324 and parameters: {'kernel': 'epanechnikov', 'metric': 'euclidean', 'window_type': 'neighbours', 'k': 1733}. Best is trial 0 with value: 0.9281683229051649.\n",
      "[I 2024-09-12 00:04:08,666] Trial 5 finished with value: 0.8993221690590112 and parameters: {'kernel': 'cosine', 'metric': 'euclidean', 'window_type': 'fixed', 'radius': 952.4807338920812}. Best is trial 0 with value: 0.9281683229051649.\n",
      "[I 2024-09-12 00:04:21,545] Trial 6 finished with value: 0.5 and parameters: {'kernel': 'epanechnikov', 'metric': 'manhattan', 'window_type': 'fixed', 'radius': 2474.447580263255}. Best is trial 0 with value: 0.9281683229051649.\n",
      "[I 2024-09-12 00:04:45,513] Trial 7 finished with value: 0.5 and parameters: {'kernel': 'triangular', 'metric': 'cosine', 'window_type': 'fixed', 'radius': 2883.616458493871}. Best is trial 0 with value: 0.9281683229051649.\n",
      "[I 2024-09-12 00:05:09,557] Trial 8 finished with value: 0.5 and parameters: {'kernel': 'triangular', 'metric': 'cosine', 'window_type': 'fixed', 'radius': 1909.1516152806478}. Best is trial 0 with value: 0.9281683229051649.\n",
      "[I 2024-09-12 00:05:33,693] Trial 9 finished with value: 0.5 and parameters: {'kernel': 'triangular', 'metric': 'cosine', 'window_type': 'fixed', 'radius': 2567.3992079414106}. Best is trial 0 with value: 0.9281683229051649.\n",
      "[I 2024-09-12 00:05:43,707] Trial 10 finished with value: 0.8489295791927371 and parameters: {'kernel': 'uniform', 'metric': 'manhattan', 'window_type': 'neighbours', 'k': 872}. Best is trial 0 with value: 0.9281683229051649.\n",
      "[I 2024-09-12 00:06:03,130] Trial 11 finished with value: 0.9257683106367317 and parameters: {'kernel': 'epanechnikov', 'metric': 'cosine', 'window_type': 'neighbours', 'k': 86}. Best is trial 0 with value: 0.9281683229051649.\n",
      "[I 2024-09-12 00:06:23,236] Trial 12 finished with value: 0.8853361550729972 and parameters: {'kernel': 'cosine', 'metric': 'cosine', 'window_type': 'neighbours', 'k': 514}. Best is trial 0 with value: 0.9281683229051649.\n",
      "[I 2024-09-12 00:06:43,990] Trial 13 finished with value: 0.8570880873512452 and parameters: {'kernel': 'uniform', 'metric': 'cosine', 'window_type': 'neighbours', 'k': 737}. Best is trial 0 with value: 0.9281683229051649.\n",
      "[I 2024-09-12 00:07:02,830] Trial 14 finished with value: 0.9271408416145259 and parameters: {'kernel': 'epanechnikov', 'metric': 'cosine', 'window_type': 'neighbours', 'k': 31}. Best is trial 0 with value: 0.9281683229051649.\n",
      "[I 2024-09-12 00:07:13,017] Trial 15 finished with value: 0.8606536007851797 and parameters: {'kernel': 'cosine', 'metric': 'manhattan', 'window_type': 'neighbours', 'k': 1176}. Best is trial 0 with value: 0.9281683229051649.\n",
      "[I 2024-09-12 00:07:32,822] Trial 16 finished with value: 0.8853361550729972 and parameters: {'kernel': 'cosine', 'metric': 'cosine', 'window_type': 'neighbours', 'k': 445}. Best is trial 0 with value: 0.9281683229051649.\n",
      "[I 2024-09-12 00:07:55,098] Trial 17 finished with value: 0.8487225493804441 and parameters: {'kernel': 'epanechnikov', 'metric': 'cosine', 'window_type': 'neighbours', 'k': 1293}. Best is trial 0 with value: 0.9281683229051649.\n",
      "[I 2024-09-12 00:08:02,922] Trial 18 finished with value: 0.9227548767022451 and parameters: {'kernel': 'uniform', 'metric': 'manhattan', 'window_type': 'neighbours', 'k': 35}. Best is trial 0 with value: 0.9281683229051649.\n",
      "[I 2024-09-12 00:08:11,869] Trial 19 finished with value: 0.8818396515764937 and parameters: {'kernel': 'cosine', 'metric': 'euclidean', 'window_type': 'neighbours', 'k': 562}. Best is trial 0 with value: 0.9281683229051649.\n",
      "[I 2024-09-12 00:08:34,420] Trial 20 finished with value: 0.8496810207336523 and parameters: {'kernel': 'epanechnikov', 'metric': 'cosine', 'window_type': 'neighbours', 'k': 1448}. Best is trial 0 with value: 0.9281683229051649.\n",
      "[I 2024-09-12 00:08:53,482] Trial 21 finished with value: 0.9261823702613177 and parameters: {'kernel': 'epanechnikov', 'metric': 'cosine', 'window_type': 'neighbours', 'k': 15}. Best is trial 0 with value: 0.9281683229051649.\n",
      "[I 2024-09-12 00:09:13,056] Trial 22 finished with value: 0.8946601643970065 and parameters: {'kernel': 'epanechnikov', 'metric': 'cosine', 'window_type': 'neighbours', 'k': 211}. Best is trial 0 with value: 0.9281683229051649.\n",
      "[I 2024-09-12 00:09:32,761] Trial 23 finished with value: 0.8946601643970065 and parameters: {'kernel': 'epanechnikov', 'metric': 'cosine', 'window_type': 'neighbours', 'k': 288}. Best is trial 0 with value: 0.9281683229051649.\n",
      "[I 2024-09-12 00:09:52,667] Trial 24 finished with value: 0.8876671574039996 and parameters: {'kernel': 'epanechnikov', 'metric': 'cosine', 'window_type': 'neighbours', 'k': 358}. Best is trial 0 with value: 0.9281683229051649.\n",
      "[I 2024-09-12 00:10:13,372] Trial 25 finished with value: 0.8701846399214821 and parameters: {'kernel': 'epanechnikov', 'metric': 'cosine', 'window_type': 'neighbours', 'k': 704}. Best is trial 0 with value: 0.9281683229051649.\n",
      "[I 2024-09-12 00:10:36,187] Trial 26 finished with value: 0.5 and parameters: {'kernel': 'cosine', 'metric': 'cosine', 'window_type': 'fixed', 'radius': 537.2292784910442}. Best is trial 0 with value: 0.9281683229051649.\n",
      "[I 2024-09-12 00:10:55,450] Trial 27 finished with value: 0.8946601643970065 and parameters: {'kernel': 'uniform', 'metric': 'cosine', 'window_type': 'neighbours', 'k': 155}. Best is trial 0 with value: 0.9281683229051649.\n",
      "[I 2024-09-12 00:11:03,292] Trial 28 finished with value: 0.9550361918782971 and parameters: {'kernel': 'epanechnikov', 'metric': 'manhattan', 'window_type': 'neighbours', 'k': 9}. Best is trial 28 with value: 0.9550361918782971.\n",
      "[I 2024-09-12 00:11:13,316] Trial 29 finished with value: 0.8653846153846154 and parameters: {'kernel': 'epanechnikov', 'metric': 'manhattan', 'window_type': 'neighbours', 'k': 897}. Best is trial 28 with value: 0.9550361918782971.\n",
      "[I 2024-09-12 00:11:21,776] Trial 30 finished with value: 0.8888326585695007 and parameters: {'kernel': 'cosine', 'metric': 'manhattan', 'window_type': 'neighbours', 'k': 349}. Best is trial 28 with value: 0.9550361918782971.\n",
      "[I 2024-09-12 00:11:29,663] Trial 31 finished with value: 0.9273478714268188 and parameters: {'kernel': 'epanechnikov', 'metric': 'manhattan', 'window_type': 'neighbours', 'k': 51}. Best is trial 28 with value: 0.9550361918782971.\n",
      "[I 2024-09-12 00:11:37,800] Trial 32 finished with value: 0.8989771193718562 and parameters: {'kernel': 'epanechnikov', 'metric': 'manhattan', 'window_type': 'neighbours', 'k': 162}. Best is trial 28 with value: 0.9550361918782971.\n",
      "[I 2024-09-12 00:11:45,614] Trial 33 finished with value: 0.9517467181940866 and parameters: {'kernel': 'epanechnikov', 'metric': 'manhattan', 'window_type': 'neighbours', 'k': 13}. Best is trial 28 with value: 0.9550361918782971.\n",
      "[I 2024-09-12 00:11:53,967] Trial 34 finished with value: 0.8934946632315053 and parameters: {'kernel': 'epanechnikov', 'metric': 'manhattan', 'window_type': 'neighbours', 'k': 216}. Best is trial 28 with value: 0.9550361918782971.\n",
      "[I 2024-09-12 00:12:02,786] Trial 35 finished with value: 0.8865016562384984 and parameters: {'kernel': 'epanechnikov', 'metric': 'manhattan', 'window_type': 'neighbours', 'k': 400}. Best is trial 28 with value: 0.9550361918782971.\n",
      "[I 2024-09-12 00:12:11,702] Trial 36 finished with value: 0.8830051527419949 and parameters: {'kernel': 'cosine', 'metric': 'manhattan', 'window_type': 'neighbours', 'k': 553}. Best is trial 28 with value: 0.9550361918782971.\n",
      "[I 2024-09-12 00:12:24,445] Trial 37 finished with value: 0.8678536375904797 and parameters: {'kernel': 'triangular', 'metric': 'manhattan', 'window_type': 'fixed', 'radius': 1337.4840589192816}. Best is trial 28 with value: 0.9550361918782971.\n",
      "[I 2024-09-12 00:12:32,775] Trial 38 finished with value: 0.8934946632315053 and parameters: {'kernel': 'epanechnikov', 'metric': 'euclidean', 'window_type': 'neighbours', 'k': 192}. Best is trial 28 with value: 0.9550361918782971.\n",
      "[I 2024-09-12 00:12:45,605] Trial 39 finished with value: 0.884170653907496 and parameters: {'kernel': 'triangular', 'metric': 'manhattan', 'window_type': 'fixed', 'radius': 1868.8928000212263}. Best is trial 28 with value: 0.9550361918782971.\n",
      "[I 2024-09-12 00:12:53,527] Trial 40 finished with value: 0.934885290148448 and parameters: {'kernel': 'epanechnikov', 'metric': 'manhattan', 'window_type': 'neighbours', 'k': 30}. Best is trial 28 with value: 0.9550361918782971.\n",
      "[I 2024-09-12 00:13:01,317] Trial 41 finished with value: 0.9528432094221568 and parameters: {'kernel': 'epanechnikov', 'metric': 'manhattan', 'window_type': 'neighbours', 'k': 7}. Best is trial 28 with value: 0.9550361918782971.\n",
      "[I 2024-09-12 00:13:10,092] Trial 42 finished with value: 0.8934946632315053 and parameters: {'kernel': 'epanechnikov', 'metric': 'manhattan', 'window_type': 'neighbours', 'k': 261}. Best is trial 28 with value: 0.9550361918782971.\n",
      "[I 2024-09-12 00:13:17,881] Trial 43 finished with value: 0.9483192246350141 and parameters: {'kernel': 'epanechnikov', 'metric': 'manhattan', 'window_type': 'neighbours', 'k': 15}. Best is trial 28 with value: 0.9550361918782971.\n",
      "[I 2024-09-12 00:13:25,623] Trial 44 finished with value: 0.9528432094221568 and parameters: {'kernel': 'epanechnikov', 'metric': 'manhattan', 'window_type': 'neighbours', 'k': 7}. Best is trial 28 with value: 0.9550361918782971.\n",
      "[I 2024-09-12 00:13:33,796] Trial 45 finished with value: 0.9055560667402773 and parameters: {'kernel': 'epanechnikov', 'metric': 'manhattan', 'window_type': 'neighbours', 'k': 147}. Best is trial 28 with value: 0.9550361918782971.\n",
      "[I 2024-09-12 00:13:46,674] Trial 46 finished with value: 0.7027818672555515 and parameters: {'kernel': 'epanechnikov', 'metric': 'manhattan', 'window_type': 'fixed', 'radius': 1263.9741230055547}. Best is trial 28 with value: 0.9550361918782971.\n",
      "[I 2024-09-12 00:13:59,635] Trial 47 finished with value: 0.8559225861857441 and parameters: {'kernel': 'epanechnikov', 'metric': 'manhattan', 'window_type': 'neighbours', 'k': 2031}. Best is trial 28 with value: 0.9550361918782971.\n",
      "[I 2024-09-12 00:14:07,747] Trial 48 finished with value: 0.9187829714145503 and parameters: {'kernel': 'epanechnikov', 'metric': 'manhattan', 'window_type': 'neighbours', 'k': 124}. Best is trial 28 with value: 0.9550361918782971.\n",
      "[I 2024-09-12 00:14:16,262] Trial 49 finished with value: 0.8759431358115568 and parameters: {'kernel': 'uniform', 'metric': 'euclidean', 'window_type': 'neighbours', 'k': 312}. Best is trial 28 with value: 0.9550361918782971.\n"
     ]
    },
    {
     "data": {
      "text/plain": [
       "{'kernel': 'epanechnikov',\n",
       " 'metric': 'manhattan',\n",
       " 'window_type': 'neighbours',\n",
       " 'k': 9}"
      ]
     },
     "execution_count": 281,
     "metadata": {},
     "output_type": "execute_result"
    }
   ],
   "execution_count": 281
  },
  {
   "metadata": {
    "ExecuteTime": {
     "end_time": "2024-09-11T22:00:38.883583Z",
     "start_time": "2024-09-11T21:41:40.252771Z"
    }
   },
   "cell_type": "code",
   "source": [
    "my_model_params = optimize(MyKNNClassifier)\n",
    "print(my_model_params)"
   ],
   "id": "3fb9325c1ddcbfaa",
   "outputs": [
    {
     "name": "stderr",
     "output_type": "stream",
     "text": [
      "[I 2024-09-12 00:41:40,254] A new study created in memory with name: no-name-f9f989f8-6b49-497e-b811-b0dc6c8a6d92\n",
      "[I 2024-09-12 00:42:04,977] Trial 0 finished with value: 0.5 and parameters: {'kernel': 'triangular', 'metric': 'cosine', 'window_type': 'fixed', 'radius': 1587.293989680778}. Best is trial 0 with value: 0.5.\n",
      "[I 2024-09-12 00:42:47,977] Trial 1 finished with value: 0.8460464973622868 and parameters: {'kernel': 'epanechnikov', 'metric': 'cosine', 'window_type': 'neighbours', 'k': 1876}. Best is trial 1 with value: 0.8460464973622868.\n",
      "[I 2024-09-12 00:43:00,038] Trial 2 finished with value: 0.5 and parameters: {'kernel': 'cosine', 'metric': 'euclidean', 'window_type': 'fixed', 'radius': 1829.9090955699044}. Best is trial 1 with value: 0.8460464973622868.\n",
      "[I 2024-09-12 00:43:42,914] Trial 3 finished with value: 0.8865016562384984 and parameters: {'kernel': 'uniform', 'metric': 'cosine', 'window_type': 'neighbours', 'k': 231}. Best is trial 3 with value: 0.8865016562384984.\n",
      "[I 2024-09-12 00:44:03,392] Trial 4 finished with value: 0.854757085020243 and parameters: {'kernel': 'triangular', 'metric': 'manhattan', 'window_type': 'neighbours', 'k': 1431}. Best is trial 3 with value: 0.8865016562384984.\n",
      "[I 2024-09-12 00:44:47,345] Trial 5 finished with value: 0.8437154950312845 and parameters: {'kernel': 'uniform', 'metric': 'cosine', 'window_type': 'neighbours', 'k': 1607}. Best is trial 3 with value: 0.8865016562384984.\n",
      "[I 2024-09-12 00:44:59,748] Trial 6 finished with value: 0.5 and parameters: {'kernel': 'cosine', 'metric': 'euclidean', 'window_type': 'fixed', 'radius': 1973.7559357782357}. Best is trial 3 with value: 0.8865016562384984.\n",
      "[I 2024-09-12 00:45:20,766] Trial 7 finished with value: 0.8618881118881119 and parameters: {'kernel': 'epanechnikov', 'metric': 'manhattan', 'window_type': 'neighbours', 'k': 1029}. Best is trial 3 with value: 0.8865016562384984.\n",
      "[I 2024-09-12 00:45:41,111] Trial 8 finished with value: 0.9215893755367439 and parameters: {'kernel': 'triangular', 'metric': 'euclidean', 'window_type': 'neighbours', 'k': 69}. Best is trial 8 with value: 0.9215893755367439.\n",
      "[I 2024-09-12 00:45:53,134] Trial 9 finished with value: 0.5 and parameters: {'kernel': 'gaussian', 'metric': 'manhattan', 'window_type': 'fixed', 'radius': 2547.782712885696}. Best is trial 8 with value: 0.9215893755367439.\n",
      "[I 2024-09-12 00:46:13,361] Trial 10 finished with value: 0.9089835602993498 and parameters: {'kernel': 'triangular', 'metric': 'euclidean', 'window_type': 'neighbours', 'k': 118}. Best is trial 8 with value: 0.9215893755367439.\n",
      "[I 2024-09-12 00:46:33,651] Trial 11 finished with value: 0.9215893755367439 and parameters: {'kernel': 'triangular', 'metric': 'euclidean', 'window_type': 'neighbours', 'k': 69}. Best is trial 8 with value: 0.9215893755367439.\n",
      "[I 2024-09-12 00:46:54,250] Trial 12 finished with value: 0.8818396515764937 and parameters: {'kernel': 'triangular', 'metric': 'euclidean', 'window_type': 'neighbours', 'k': 584}. Best is trial 8 with value: 0.9215893755367439.\n",
      "[I 2024-09-12 00:47:14,402] Trial 13 finished with value: 0.8865016562384984 and parameters: {'kernel': 'triangular', 'metric': 'euclidean', 'window_type': 'neighbours', 'k': 514}. Best is trial 8 with value: 0.9215893755367439.\n",
      "[I 2024-09-12 00:47:33,573] Trial 14 finished with value: 0.8875291375291375 and parameters: {'kernel': 'gaussian', 'metric': 'euclidean', 'window_type': 'neighbours', 'k': 35}. Best is trial 8 with value: 0.9215893755367439.\n",
      "[I 2024-09-12 00:47:54,245] Trial 15 finished with value: 0.8713501410869833 and parameters: {'kernel': 'triangular', 'metric': 'euclidean', 'window_type': 'neighbours', 'k': 774}. Best is trial 8 with value: 0.9215893755367439.\n",
      "[I 2024-09-12 00:48:15,480] Trial 16 finished with value: 0.8865016562384984 and parameters: {'kernel': 'triangular', 'metric': 'euclidean', 'window_type': 'neighbours', 'k': 421}. Best is trial 8 with value: 0.9215893755367439.\n",
      "[I 2024-09-12 00:48:36,296] Trial 17 finished with value: 0.8678536375904797 and parameters: {'kernel': 'triangular', 'metric': 'euclidean', 'window_type': 'neighbours', 'k': 861}. Best is trial 8 with value: 0.9215893755367439.\n",
      "[I 2024-09-12 00:48:49,891] Trial 18 finished with value: 0.5 and parameters: {'kernel': 'uniform', 'metric': 'euclidean', 'window_type': 'fixed', 'radius': 507.74906232093167}. Best is trial 8 with value: 0.9215893755367439.\n",
      "[I 2024-09-12 00:49:10,997] Trial 19 finished with value: 0.9461952521163047 and parameters: {'kernel': 'epanechnikov', 'metric': 'manhattan', 'window_type': 'neighbours', 'k': 1}. Best is trial 19 with value: 0.9461952521163047.\n",
      "[I 2024-09-12 00:49:32,041] Trial 20 finished with value: 0.8888326585695007 and parameters: {'kernel': 'epanechnikov', 'metric': 'manhattan', 'window_type': 'neighbours', 'k': 350}. Best is trial 19 with value: 0.9461952521163047.\n",
      "[I 2024-09-12 00:49:53,164] Trial 21 finished with value: 0.9405057661636609 and parameters: {'kernel': 'epanechnikov', 'metric': 'manhattan', 'window_type': 'neighbours', 'k': 23}. Best is trial 19 with value: 0.9461952521163047.\n",
      "[I 2024-09-12 00:50:14,747] Trial 22 finished with value: 0.9529122193595878 and parameters: {'kernel': 'epanechnikov', 'metric': 'manhattan', 'window_type': 'neighbours', 'k': 4}. Best is trial 22 with value: 0.9529122193595878.\n",
      "[I 2024-09-12 00:50:35,889] Trial 23 finished with value: 0.891163660900503 and parameters: {'kernel': 'epanechnikov', 'metric': 'manhattan', 'window_type': 'neighbours', 'k': 299}. Best is trial 22 with value: 0.9529122193595878.\n",
      "[I 2024-09-12 00:50:56,339] Trial 24 finished with value: 0.8748466445834867 and parameters: {'kernel': 'epanechnikov', 'metric': 'manhattan', 'window_type': 'neighbours', 'k': 631}. Best is trial 22 with value: 0.9529122193595878.\n",
      "[I 2024-09-12 00:51:16,647] Trial 25 finished with value: 0.8934946632315053 and parameters: {'kernel': 'epanechnikov', 'metric': 'manhattan', 'window_type': 'neighbours', 'k': 232}. Best is trial 22 with value: 0.9529122193595878.\n",
      "[I 2024-09-12 00:51:29,936] Trial 26 finished with value: 0.8758741258741258 and parameters: {'kernel': 'epanechnikov', 'metric': 'manhattan', 'window_type': 'fixed', 'radius': 665.7883007509927}. Best is trial 22 with value: 0.9529122193595878.\n",
      "[I 2024-09-12 00:51:50,406] Trial 27 finished with value: 0.854757085020243 and parameters: {'kernel': 'epanechnikov', 'metric': 'manhattan', 'window_type': 'neighbours', 'k': 1309}. Best is trial 22 with value: 0.9529122193595878.\n",
      "[I 2024-09-12 00:52:10,901] Trial 28 finished with value: 0.9516777082566557 and parameters: {'kernel': 'epanechnikov', 'metric': 'manhattan', 'window_type': 'neighbours', 'k': 8}. Best is trial 22 with value: 0.9529122193595878.\n",
      "[I 2024-09-12 00:52:24,263] Trial 29 finished with value: 0.5 and parameters: {'kernel': 'epanechnikov', 'metric': 'manhattan', 'window_type': 'fixed', 'radius': 2937.025893629347}. Best is trial 22 with value: 0.9529122193595878.\n",
      "[I 2024-09-12 00:52:45,074] Trial 30 finished with value: 0.8934946632315053 and parameters: {'kernel': 'cosine', 'metric': 'manhattan', 'window_type': 'neighbours', 'k': 281}. Best is trial 22 with value: 0.9529122193595878.\n",
      "[I 2024-09-12 00:53:07,661] Trial 31 finished with value: 0.9273478714268188 and parameters: {'kernel': 'epanechnikov', 'metric': 'manhattan', 'window_type': 'neighbours', 'k': 50}. Best is trial 22 with value: 0.9529122193595878.\n",
      "[I 2024-09-12 00:53:30,452] Trial 32 finished with value: 0.9461952521163047 and parameters: {'kernel': 'epanechnikov', 'metric': 'manhattan', 'window_type': 'neighbours', 'k': 1}. Best is trial 22 with value: 0.9529122193595878.\n",
      "[I 2024-09-12 00:53:51,027] Trial 33 finished with value: 0.8934946632315053 and parameters: {'kernel': 'epanechnikov', 'metric': 'manhattan', 'window_type': 'neighbours', 'k': 201}. Best is trial 22 with value: 0.9529122193595878.\n",
      "[I 2024-09-12 00:54:34,144] Trial 34 finished with value: 0.8876671574039996 and parameters: {'kernel': 'epanechnikov', 'metric': 'cosine', 'window_type': 'neighbours', 'k': 376}. Best is trial 22 with value: 0.9529122193595878.\n",
      "[I 2024-09-12 00:54:54,784] Trial 35 finished with value: 0.9550361918782971 and parameters: {'kernel': 'epanechnikov', 'metric': 'manhattan', 'window_type': 'neighbours', 'k': 9}. Best is trial 35 with value: 0.9550361918782971.\n",
      "[I 2024-09-12 00:55:36,926] Trial 36 finished with value: 0.877177646914489 and parameters: {'kernel': 'gaussian', 'metric': 'cosine', 'window_type': 'neighbours', 'k': 178}. Best is trial 35 with value: 0.9550361918782971.\n",
      "[I 2024-09-12 00:55:49,003] Trial 37 finished with value: 0.8876671574039996 and parameters: {'kernel': 'cosine', 'metric': 'manhattan', 'window_type': 'fixed', 'radius': 947.5616475083077}. Best is trial 35 with value: 0.9550361918782971.\n",
      "[I 2024-09-12 00:56:09,830] Trial 38 finished with value: 0.8642881241565452 and parameters: {'kernel': 'uniform', 'metric': 'manhattan', 'window_type': 'neighbours', 'k': 459}. Best is trial 35 with value: 0.9550361918782971.\n",
      "[I 2024-09-12 00:56:55,486] Trial 39 finished with value: 0.8736811434179855 and parameters: {'kernel': 'epanechnikov', 'metric': 'cosine', 'window_type': 'neighbours', 'k': 685}. Best is trial 35 with value: 0.9550361918782971.\n",
      "[I 2024-09-12 00:57:09,339] Trial 40 finished with value: 0.5668859649122807 and parameters: {'kernel': 'epanechnikov', 'metric': 'manhattan', 'window_type': 'fixed', 'radius': 1413.3831409808392}. Best is trial 35 with value: 0.9550361918782971.\n",
      "[I 2024-09-12 00:57:30,439] Trial 41 finished with value: 0.9198104527051896 and parameters: {'kernel': 'epanechnikov', 'metric': 'manhattan', 'window_type': 'neighbours', 'k': 119}. Best is trial 35 with value: 0.9550361918782971.\n",
      "[I 2024-09-12 00:57:50,849] Trial 42 finished with value: 0.9437952398478715 and parameters: {'kernel': 'epanechnikov', 'metric': 'manhattan', 'window_type': 'neighbours', 'k': 21}. Best is trial 35 with value: 0.9550361918782971.\n",
      "[I 2024-09-12 00:58:11,425] Trial 43 finished with value: 0.8489295791927371 and parameters: {'kernel': 'epanechnikov', 'metric': 'manhattan', 'window_type': 'neighbours', 'k': 1856}. Best is trial 35 with value: 0.9550361918782971.\n",
      "[I 2024-09-12 00:58:32,489] Trial 44 finished with value: 0.8945911544595755 and parameters: {'kernel': 'epanechnikov', 'metric': 'manhattan', 'window_type': 'neighbours', 'k': 188}. Best is trial 35 with value: 0.9550361918782971.\n",
      "[I 2024-09-12 00:58:53,781] Trial 45 finished with value: 0.9517467181940866 and parameters: {'kernel': 'epanechnikov', 'metric': 'manhattan', 'window_type': 'neighbours', 'k': 3}. Best is trial 35 with value: 0.9550361918782971.\n",
      "[I 2024-09-12 00:59:13,871] Trial 46 finished with value: 0.8570880873512452 and parameters: {'kernel': 'gaussian', 'metric': 'manhattan', 'window_type': 'neighbours', 'k': 223}. Best is trial 35 with value: 0.9550361918782971.\n",
      "[I 2024-09-12 00:59:34,827] Trial 47 finished with value: 0.877177646914489 and parameters: {'kernel': 'uniform', 'metric': 'manhattan', 'window_type': 'neighbours', 'k': 311}. Best is trial 35 with value: 0.9550361918782971.\n",
      "[I 2024-09-12 01:00:17,771] Trial 48 finished with value: 0.8489295791927371 and parameters: {'kernel': 'cosine', 'metric': 'cosine', 'window_type': 'neighbours', 'k': 1243}. Best is trial 35 with value: 0.9550361918782971.\n",
      "[I 2024-09-12 01:00:38,880] Trial 49 finished with value: 0.9077490491964175 and parameters: {'kernel': 'epanechnikov', 'metric': 'manhattan', 'window_type': 'neighbours', 'k': 139}. Best is trial 35 with value: 0.9550361918782971.\n"
     ]
    },
    {
     "name": "stdout",
     "output_type": "stream",
     "text": [
      "{'kernel': 'epanechnikov', 'metric': 'manhattan', 'window_type': 'neighbours', 'k': 9}\n"
     ]
    }
   ],
   "execution_count": 294
  },
  {
   "metadata": {
    "ExecuteTime": {
     "end_time": "2024-09-12T13:15:28.820761Z",
     "start_time": "2024-09-12T13:15:28.818206Z"
    }
   },
   "cell_type": "code",
   "source": [
    "# Лучшие значения совпали\n",
    "best_kernel = 'epanechnikov'\n",
    "best_metric = 'manhattan'\n",
    "best_window_type = 'neighbours'\n",
    "best_k = 9"
   ],
   "id": "245a664c4284cef4",
   "outputs": [],
   "execution_count": 18
  },
  {
   "metadata": {},
   "cell_type": "markdown",
   "source": "Построим график зависимостей",
   "id": "c45d0dd1af470b8c"
  },
  {
   "metadata": {
    "ExecuteTime": {
     "end_time": "2024-09-12T13:15:36.798146Z",
     "start_time": "2024-09-12T13:15:36.791710Z"
    }
   },
   "cell_type": "code",
   "source": [
    "import matplotlib.pyplot as plt\n",
    "\n",
    "k_values = list(range(1, 30))\n",
    "print(len(k_values))\n",
    "len(k_values)\n",
    "\n",
    "def get_model_results(model_class, ds_x, ds_y):\n",
    "    res = []\n",
    "    for k in k_values:\n",
    "        model = model_class(best_metric, best_kernel, best_window_type, k)\n",
    "        model.fit(X_train, y_train)\n",
    "        acc = model_accuracy(ds_y, model.predict(ds_x))\n",
    "        res.append(acc)\n",
    "    return res    \n",
    "\n",
    "def plot_accuracy(model_class):\n",
    "    train_results = get_model_results(model_class, X_train, y_train)\n",
    "    test_results = get_model_results(model_class, X_test, y_test)\n",
    "    \n",
    "    plt.plot(k_values, train_results, label='train')\n",
    "    plt.plot(k_values, test_results, label='test')\n",
    "    plt.xlabel('k - кол-во соседей')\n",
    "    plt.ylabel('качество')\n",
    "    plt.legend()\n",
    "    plt.show()\n"
   ],
   "id": "cb6725c12a0c6b75",
   "outputs": [
    {
     "name": "stdout",
     "output_type": "stream",
     "text": [
      "29\n"
     ]
    }
   ],
   "execution_count": 19
  },
  {
   "metadata": {
    "ExecuteTime": {
     "end_time": "2024-09-12T07:33:16.719623Z",
     "start_time": "2024-09-12T06:59:54.128931Z"
    }
   },
   "cell_type": "code",
   "source": "plot_accuracy(MyKNNClassifier)",
   "id": "554c01033bf236d6",
   "outputs": [
    {
     "name": "stderr",
     "output_type": "stream",
     "text": [
      "/tmp/ipykernel_233193/239529210.py:41: RuntimeWarning: divide by zero encountered in scalar divide\n",
      "  classes_weights[class_label] += aprior_weight * self.__kernel(distance / distance_denominator)\n",
      "/tmp/ipykernel_233193/3548048841.py:10: RuntimeWarning: invalid value encountered in multiply\n",
      "  return (u < 1) * (1 - u ** a) ** b\n",
      "/tmp/ipykernel_233193/239529210.py:41: RuntimeWarning: invalid value encountered in scalar divide\n",
      "  classes_weights[class_label] += aprior_weight * self.__kernel(distance / distance_denominator)\n"
     ]
    },
    {
     "data": {
      "text/plain": [
       "<Figure size 640x480 with 1 Axes>"
      ],
      "image/png": "[encoded data removed]"
     },
     "metadata": {},
     "output_type": "display_data"
    }
   ],
   "execution_count": 332
  },
  {
   "metadata": {
    "ExecuteTime": {
     "end_time": "2024-09-12T07:45:54.039729Z",
     "start_time": "2024-09-12T07:33:16.721082Z"
    }
   },
   "cell_type": "code",
   "source": "plot_accuracy(LibraryKNNClassifier)",
   "id": "a80449a88f675f0c",
   "outputs": [
    {
     "name": "stderr",
     "output_type": "stream",
     "text": [
      "/tmp/ipykernel_233193/2251356129.py:38: RuntimeWarning: invalid value encountered in divide\n",
      "  return [self.__kernel(d) for d in (distances / distance_denominator)]\n"
     ]
    },
    {
     "data": {
      "text/plain": [
       "<Figure size 640x480 with 1 Axes>"
      ],
      "image/png": "[encoded data removed]"
     },
     "metadata": {},
     "output_type": "display_data"
    }
   ],
   "execution_count": 333
  },
  {
   "metadata": {},
   "cell_type": "markdown",
   "source": [
    "### Поиск аномалий LOWESS\n",
    "\n",
    "Тут на самом деле ядра для lowess неитересные (кроме gauss ядра), потому что тут задача бинарной классификации, которая при угаданному предикшену будет давать будет давать вес 1, а при не угаданном - вес 0.  \n",
    "Но гаусово - ядро интереснее (потому что при 0 даёт вёс - не 1; а при 1 - даёт вес не 0), правда им воспользоваться не получиться для LibraryKNN, поэтому мы сделаем так -> применим lowess на моём KNN с гауссовым ядром. А далее сравним на ядре Епанечникове оба алгоритма\n",
    "\n"
   ],
   "id": "80bf5f0f592ff771"
  },
  {
   "metadata": {
    "ExecuteTime": {
     "end_time": "2024-09-12T13:46:18.262040Z",
     "start_time": "2024-09-12T13:46:18.257984Z"
    }
   },
   "cell_type": "code",
   "source": [
    "def lowess_weights(model, kernel):\n",
    "    weights = []\n",
    "    for i in range(X_train.shape[0]):\n",
    "        X_train_curr = np.delete(X_train, (i), axis=0)\n",
    "        y_train_curr = np.delete(y_train, (i), axis=0)\n",
    "        model.fit(X_train_curr, y_train_curr)\n",
    "        prediction = model.predict(np.array([X_train[i]]))[0]\n",
    "        arg = 0 if y_train[i] == prediction else 1\n",
    "        weights.append(kernel(arg))\n",
    "    return np.array(weights)"
   ],
   "id": "e38f11ea35bd78b3",
   "outputs": [],
   "execution_count": 25
  },
  {
   "metadata": {},
   "cell_type": "code",
   "source": [
    "my_model = MyKNNClassifier(best_metric, best_kernel, best_window_type, best_k)\n",
    "my_model_weights = lowess_weights(my_model, Kernel.gaussian)\n",
    "\n",
    "my_model_weights[0]"
   ],
   "id": "bc17596593eec10f",
   "outputs": [],
   "execution_count": null
  },
  {
   "metadata": {
    "ExecuteTime": {
     "end_time": "2024-09-12T13:29:55.345748Z",
     "start_time": "2024-09-12T13:29:15.105014Z"
    }
   },
   "cell_type": "code",
   "source": [
    "my_model.fit(X_train, y_train)\n",
    "original_acc = model_accuracy(y_test, my_model.predict(X_test))\n",
    "my_model.fit(X_train, y_train, weights=my_model_weights)\n",
    "acc_weights = model_accuracy(y_test, my_model.predict(X_test))\n",
    "\n",
    "print('До', original_acc)\n",
    "print('После', acc_weights)\n",
    "\n",
    "plt.bar(['Качество до LOWESS', 'Качество полсе LOWESS'], acc_weights)\n",
    "plt.show()"
   ],
   "id": "782c0ad22cfc521e",
   "outputs": [
    {
     "name": "stdout",
     "output_type": "stream",
     "text": [
      "До 0.9550361918782971\n",
      "После 0.9449607410133726\n"
     ]
    },
    {
     "data": {
      "text/plain": [
       "<Figure size 640x480 with 1 Axes>"
      ],
      "image/png": "[encoded data removed]"
     },
     "metadata": {},
     "output_type": "display_data"
    }
   ],
   "execution_count": 22
  },
  {
   "metadata": {},
   "cell_type": "markdown",
   "source": "Как видим, acc стал ниже, я предполагаю, что так произошло, потому что суть моей классификации - определить в каком городе - происходит аренда. Москва или Питер, и макс. коррелирующие в этом случае признаки - будут кол-во квадратов и стоимость квартиры. LOWESS - по сути в этом случае с помощью Ядра Гаусса - \"усредняет\" все веса. Хотя по факту между ними действительно значительная разница в весе. На тесте - из-за этого падает скор. ",
   "id": "8a0b97e3ce275620"
  },
  {
   "metadata": {},
   "cell_type": "markdown",
   "source": "## А теперь сравним MyKNN и LibraryKNN",
   "id": "b5302f1bd2a423e"
  },
  {
   "metadata": {
    "ExecuteTime": {
     "end_time": "2024-09-12T13:47:49.933193Z",
     "start_time": "2024-09-12T13:46:21.307800Z"
    }
   },
   "cell_type": "code",
   "source": [
    "my_model = MyKNNClassifier(best_metric, best_kernel, best_window_type, best_k)\n",
    "\n",
    "my_model.fit(X_train, y_train)\n",
    "acc1 = model_accuracy(y_test, my_model.predict(X_test))\n",
    "my_model.fit(X_train, y_train, weights=lowess_weights(my_model, Kernel.epanechnikov))\n",
    "acc2 = model_accuracy(y_test, my_model.predict(X_test))\n",
    "\n",
    "print('Улучшение с LOWESS', acc2 - acc1)"
   ],
   "id": "ca781acd5d357094",
   "outputs": [
    {
     "name": "stdout",
     "output_type": "stream",
     "text": [
      "Улучшение с LOWESS -0.013433934486566046\n"
     ]
    }
   ],
   "execution_count": 26
  },
  {
   "metadata": {
    "ExecuteTime": {
     "end_time": "2024-09-12T13:48:25.450355Z",
     "start_time": "2024-09-12T13:47:49.934526Z"
    }
   },
   "cell_type": "code",
   "source": [
    "library_model = LibraryKNNClassifier(best_metric, best_kernel, best_window_type, best_k)\n",
    "\n",
    "library_weights = lowess_weights(library_model, Kernel.epanechnikov)\n",
    "library_model.fit(X_train, y_train)\n",
    "acc1 = model_accuracy(y_test, library_model.predict(X_test))\n",
    "X_train_curr = X_train[library_weights != 0]\n",
    "y_train_curr = y_train[library_weights != 0]\n",
    "library_model.fit(X_train_curr, y_train_curr)\n",
    "acc2 = model_accuracy(y_test, library_model.predict(X_test))\n",
    "\n",
    "print('Улучшение с LOWESS', acc2 - acc1)"
   ],
   "id": "2ec4fe9c6e87921b",
   "outputs": [
    {
     "name": "stdout",
     "output_type": "stream",
     "text": [
      "Улучшение с LOWESS -0.01233744325849584\n"
     ]
    }
   ],
   "execution_count": 27
  },
  {
   "metadata": {},
   "cell_type": "markdown",
   "source": "Как я и сказал, кажется, что особенность тестовых данных дала такой результат",
   "id": "94db69c8a7587ded"
  }
 ],
 "metadata": {
  "kernelspec": {
   "display_name": "Python 3 (ipykernel)",
   "language": "python",
   "name": "python3"
  },
  "language_info": {
   "codemirror_mode": {
    "name": "ipython",
    "version": 3
   },
   "file_extension": ".py",
   "mimetype": "text/x-python",
   "name": "python",
   "nbconvert_exporter": "python",
   "pygments_lexer": "ipython3",
   "version": "3.10.12"
  }
 },
 "nbformat": 4,
 "nbformat_minor": 5
}
